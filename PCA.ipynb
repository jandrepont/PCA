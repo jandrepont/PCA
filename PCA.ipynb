{
 "cells": [
  {
   "cell_type": "markdown",
   "metadata": {},
   "source": [
    "# Principal Component Analysis \n",
    "Using Jon Shlens \"A Tutorial On Principal Component Analysis\" (2003). \n",
    "## 1) Change of Basis\n",
    "\"Is there another basis, which is a linear combination of the original basis, that best expresses our data set?\" \n",
    "Let $\\bf{X}$ and $\\bf{Y}$ be $m\\times n$ matrices related by a linear transformation $\\bf{P}$. $\\bf{X}$ is the original recorded data set and $\\bf{Y}$ is a re-representation of that data set \n",
    "$$\n",
    "\\begin{equation}\n",
    "\\bf{PX} = \\bf{Y}\n",
    "\\end{equation}\n",
    "$$\n",
    "We define the following quantities : \n",
    "\n",
    "* $\\bf{p_i}$ are the rows of $\\bf{P}$\n",
    "* $\\bf{x_i}$ are the columns of $\\bf{X}$\n",
    "* $\\bf{y_i}$ are the columns of $\\bf{Y}$\n",
    "\n",
    "Then each $\\bf{y_i}$ has the form \n",
    "$$\\bf{y_i} =  \\begin{bmatrix}\n",
    "                \\langle \\bf{p_1, x_i}\\rangle \\\\\n",
    "                \\vdots \\\\ \n",
    "                \\langle \\bf{p_m, x_i}\\rangle \\\\\n",
    "            \\end{bmatrix}$$\n",
    "\n",
    "that is, the jth coefficient of $\\bf{y_i}$ is a projection on to the jth row of $\\bf{P}$. \n",
    "In fact, we can interpret the above form of $\\bf{Y}$ as a projection onto the basis $\\{\\bf{p_1}, \\dots, \\bf{p_m} \\}$ \n",
    "\n",
    "We now come to the question of choosing a good $\\bf{P}$. \n",
    "\n",
    "## 2) Choosing P\n",
    "We want a data set that has low levels of noise and low redundancy. \n",
    "\n",
    "\n",
    "\n",
    "\n",
    "\n",
    "\n",
    "\n",
    "\n",
    "\n"
   ]
  },
  {
   "cell_type": "code",
   "execution_count": null,
   "metadata": {},
   "outputs": [],
   "source": []
  },
  {
   "cell_type": "code",
   "execution_count": null,
   "metadata": {},
   "outputs": [],
   "source": []
  },
  {
   "cell_type": "code",
   "execution_count": null,
   "metadata": {},
   "outputs": [],
   "source": []
  },
  {
   "cell_type": "code",
   "execution_count": null,
   "metadata": {},
   "outputs": [],
   "source": []
  },
  {
   "cell_type": "code",
   "execution_count": null,
   "metadata": {},
   "outputs": [],
   "source": []
  },
  {
   "cell_type": "code",
   "execution_count": null,
   "metadata": {},
   "outputs": [],
   "source": []
  }
 ],
 "metadata": {
  "kernelspec": {
   "display_name": "Python 3",
   "language": "python",
   "name": "python3"
  },
  "language_info": {
   "codemirror_mode": {
    "name": "ipython",
    "version": 3
   },
   "file_extension": ".py",
   "mimetype": "text/x-python",
   "name": "python",
   "nbconvert_exporter": "python",
   "pygments_lexer": "ipython3",
   "version": "3.6.9"
  }
 },
 "nbformat": 4,
 "nbformat_minor": 4
}
